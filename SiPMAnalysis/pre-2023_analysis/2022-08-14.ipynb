{
 "cells": [
  {
   "cell_type": "code",
   "execution_count": 1,
   "metadata": {},
   "outputs": [],
   "source": [
    "import numpy as np\n",
    "import glob\n",
    "from scipy.optimize import curve_fit\n",
    "import h5py\n",
    "from natsort import natsorted,realsorted\n",
    "from scipy.signal import find_peaks\n",
    "import matplotlib.pyplot as plt"
   ]
  },
  {
   "cell_type": "code",
   "execution_count": 2,
   "metadata": {},
   "outputs": [
    {
     "name": "stderr",
     "output_type": "stream",
     "text": [
      "'pwd' is not recognized as an internal or external command,\n",
      "operable program or batch file.\n"
     ]
    }
   ],
   "source": [
    "!pwd"
   ]
  },
  {
   "cell_type": "code",
   "execution_count": 3,
   "metadata": {},
   "outputs": [],
   "source": [
    "plt.style.use('style.mplstyle')\n",
    "colors = plt.rcParams['axes.prop_cycle'].by_key()['color']"
   ]
  },
  {
   "cell_type": "code",
   "execution_count": 4,
   "metadata": {},
   "outputs": [],
   "source": [
    "f_1='/gpfs/gibbs/project/david_moore/ab2935/Data/20220814/SRS_Gain_100/4Vpp_3min_0.2V_intervals/0.5kHz/'\n",
    "f_2='/gpfs/gibbs/project/david_moore/ab2935/Data/20220814/SRS_Gain_100/4Vpp_3min_0.2V_intervals/0.6kHz/'\n",
    "f_3='/gpfs/gibbs/project/david_moore/ab2935/Data/20220814/SRS_Gain_100/4Vpp_3min_0.2V_intervals/0.7kHz/'\n",
    "f_4='/gpfs/gibbs/project/david_moore/ab2935/Data/20220814/SRS_Gain_100/4Vpp_3min_0.2V_intervals/0.8kHz/'\n",
    "f_5='/gpfs/gibbs/project/david_moore/ab2935/Data/20220814/SRS_Gain_100/4Vpp_3min_0.2V_intervals/0.9kHz/'\n",
    "f_6='/gpfs/gibbs/project/david_moore/ab2935/Data/20220814/SRS_Gain_100/4Vpp_3min_0.2V_intervals/1.0kHz/'\n",
    "f_7='/gpfs/gibbs/project/david_moore/ab2935/Data/20220814/SRS_Gain_100/4Vpp_3min_0.2V_intervals/2.0kHz/'\n",
    "f_8='/gpfs/gibbs/project/david_moore/ab2935/Data/20220814/SRS_Gain_100/4Vpp_3min_0.2V_intervals/5.0kHz/'\n",
    "f_9='/gpfs/gibbs/project/david_moore/ab2935/Data/20220814/SRS_Gain_100/4Vpp_3min_0.2V_intervals/7.0kHz/'\n",
    "f_10='/gpfs/gibbs/project/david_moore/ab2935/Data/20220814/SRS_Gain_100/4Vpp_3min_0.2V_intervals/10.0kHz/'"
   ]
  },
  {
   "cell_type": "code",
   "execution_count": 5,
   "metadata": {},
   "outputs": [],
   "source": [
    "def Voltages(Path):\n",
    "    voltages = glob.glob(Path+'mca*')\n",
    "    voltages = [x.split('_')[-2] for x in voltages]\n",
    "    voltages = np.array(sorted([x.split('OV')[0] for x in voltages]))\n",
    "    voltages = np.unique(voltages)\n",
    "    voltages = voltages.astype(np.float)\n",
    "    return(voltages)"
   ]
  },
  {
   "cell_type": "code",
   "execution_count": 6,
   "metadata": {},
   "outputs": [],
   "source": [
    "def rebin(hx,h,bins):\n",
    "    h_rebin=[]\n",
    "    for i in range(int(len(h)/bins)):\n",
    "        start_idx=i*bins\n",
    "        end_idx=(i+1)*bins\n",
    "        h_rebin.append(np.sum(h[start_idx:end_idx]))\n",
    "    hx_rebin=range(len(h_rebin))\n",
    "    return np.array(hx_rebin), np.array(h_rebin)"
   ]
  },
  {
   "cell_type": "code",
   "execution_count": 7,
   "metadata": {},
   "outputs": [],
   "source": [
    "def gauss(x,a,mu,sigma):\n",
    "    return (a*np.exp(-0.5*((x-mu)/sigma)**2))"
   ]
  },
  {
   "cell_type": "code",
   "execution_count": 8,
   "metadata": {},
   "outputs": [],
   "source": [
    "def line(x,a,b):\n",
    "    return a*(x-b)"
   ]
  },
  {
   "cell_type": "code",
   "execution_count": 9,
   "metadata": {},
   "outputs": [],
   "source": [
    "def gain_calculator(PATH,N_BINS,N_PEAKS,PEAK_DISTANCE,PSL,PSR):\n",
    "\n",
    "    BINS=N_BINS # Number of bins to rebin the MCA data with\n",
    "    N_peaks= N_PEAKS# Number of peaks to use for calculating the gain\n",
    "    gain_list=[] # empty list to fill in the values of gain, returned at the end of this function\n",
    "    gain_err=[] # empty list to fill in the values of gain fit error, returned at the end of this function\n",
    "    calib_pe=[]# empty list to fill in the values for calibrated PE \n",
    "    calib_count=[]\n",
    "    Files = natsorted(glob.glob(PATH+'*mca*.h5'))\n",
    "    # for loop to loop over all the files\n",
    "    # some source data does not have clear enough peaks at the first OV, so we ignore that here\n",
    "    for i,file in enumerate(Files):\n",
    "        print(file) \n",
    "    \n",
    "    \n",
    "        f = h5py.File(file, 'r')  \n",
    "        ch2 = f.get('ch2')\n",
    "        for key in ch2.keys(): \n",
    "            df = np.array(ch2.get(key))\n",
    "        h = df[250:]\n",
    "        hx = np.arange(0,len(h),1)\n",
    "        hx,h = rebin(hx,h, BINS)\n",
    "        \n",
    "\n",
    "        gain_temp=[]#reset the gain temp list here to store gain values for one file\n",
    "        #Use scipy find_peaks to find peaks starting with a very high prominence \n",
    "        PROMINENCE=1E3 #This prominence is re-set here to ensure that every file starts out with a high prominence\n",
    "    \n",
    "        peaks,pdict=find_peaks(h,prominence=PROMINENCE,distance=PEAK_DISTANCE)\n",
    "        peak_length=len(peaks)\n",
    "        # We want to ensure that using a high prominence gives us at least N_peaks peaks to fit a straight line to. If it doesn't we reduce prominence till we get at least 3 peaks. N_peaks is set above\n",
    "        while (peak_length<N_peaks+1):\n",
    "            PROMINENCE=PROMINENCE-1\n",
    "            \n",
    "            peaks,pdict=find_peaks(h,prominence=PROMINENCE,distance=PEAK_DISTANCE)\n",
    "            peak_length=len(peaks)\n",
    "    \n",
    "        plt.figure(figsize=(10,3)) # Call the figure here\n",
    "        plt.subplot(1,2,1) # This subplot will plot the position of the peaks and also the data\n",
    "        plt.xlim(0,18000/BINS)\n",
    "        # plt.ylim(0,50)\n",
    "        plt.yscale('log')\n",
    "        plt.plot(hx[peaks],h[peaks],'*') # plot the peak markers\n",
    "        plt.plot(hx,h,lw=1) #plot the signal\n",
    "        \n",
    "        \n",
    "            \n",
    "        \n",
    "        \n",
    "        \n",
    "        for i,peak in enumerate(peaks[PSL:PSR]): # here we ignore the first peak because it could be the pedestal\n",
    "            new_first_pe_max=hx[peak] # x-value of the peak\n",
    "            new_max_value=h[peak] # height of the peak\n",
    "            new_x_idx_array=(h<0.5*new_max_value) & (hx>new_first_pe_max) # returns a boolean array where both conditions are true\n",
    "            new_right_side_x= hx[np.where(new_x_idx_array)[0][0]] # finding the first time where x_idx_array is True\n",
    "            new_sigma_guess=1.2*np.abs(new_first_pe_max-new_right_side_x) # We need this to fit the width of the Gaussian peaks\n",
    "\n",
    "\n",
    "            new_cut = (hx < new_first_pe_max+new_sigma_guess) & (hx > new_first_pe_max-new_sigma_guess) # This cut helps to fix the width of the peak-fit\n",
    "            popt_new,pcov_new=curve_fit(gauss,hx[new_cut],h[new_cut],p0=[new_max_value,new_first_pe_max,new_sigma_guess],maxfev=100000) # We use curve_fit to return the optimal parameters and the covariance matrix\n",
    "            plt.plot(hx[new_cut],gauss(hx[new_cut],*popt_new),color='r',label='Fit',lw=3) # Here we plot the fit on all the peaks\n",
    "            gain_temp.append(popt_new[1]*BINS) # Here we append the value of the peak fit mean \n",
    "\n",
    "        plt.subplot(1,2,2) #This subplot shows the straight line fit to the peak means to obtain the slope/gain\n",
    "        popt_temp,pcov_temp=curve_fit(line,np.arange(0,len(peaks[PSL:PSR])),gain_temp,p0=[10,0],maxfev=10000) #Use the straight line fit here\n",
    "        plt.plot(np.arange(0,len(peaks[PSL:PSR])),line(np.arange(0,len(peaks[PSL:PSR])),*popt_temp),color='k',label=(str(np.round(popt_temp[0],2)))+'$\\pm$'+str(np.round(np.sqrt(np.diag(pcov_temp))[0],2))+' ADC/PE') # plot the straight line fit\n",
    "        plt.scatter(np.arange(0,len(peaks[PSL:PSR])),gain_temp,color='r') # plot the values of the peak means\n",
    "        plt.legend(loc=2)\n",
    "        gain_list.append(popt_temp[0]) # append the gain values to obtain BV later\n",
    "        gain_err.append(np.sqrt(np.diag(pcov_temp))[0]) # append the straight line error fit\n",
    "        plt.show()\n",
    "\n",
    "    return(np.array(gain_list),np.array(gain_err))"
   ]
  },
  {
   "cell_type": "markdown",
   "metadata": {},
   "source": [
    "## 0.5 kHz"
   ]
  },
  {
   "cell_type": "code",
   "execution_count": 10,
   "metadata": {},
   "outputs": [],
   "source": [
    "# gain_calculator(PATH,N_BINS,N_PEAKS,PEAK_DISTANCE,PSL,PSR):\n",
    "f_1_gain_list,f_1_gain_err=gain_calculator(f_1,20,12,20,4,-3)\n",
    "Voltages_f_1=Voltages(f_1)"
   ]
  },
  {
   "cell_type": "markdown",
   "metadata": {},
   "source": [
    "## 0.6kHz"
   ]
  },
  {
   "cell_type": "code",
   "execution_count": 11,
   "metadata": {},
   "outputs": [],
   "source": [
    "# gain_calculator(PATH,N_BINS,N_PEAKS,PEAK_DISTANCE,PSL,PSR):\n",
    "f_2_gain_list,f_2_gain_err=gain_calculator(f_2,40,10,10,2,-1)\n",
    "Voltages_f_2=Voltages(f_2)"
   ]
  },
  {
   "cell_type": "markdown",
   "metadata": {},
   "source": [
    "## 0.7kHz"
   ]
  },
  {
   "cell_type": "code",
   "execution_count": 12,
   "metadata": {},
   "outputs": [],
   "source": [
    "# gain_calculator(PATH,N_BINS,N_PEAKS,PEAK_DISTANCE,PSL,PSR):\n",
    "f_3_gain_list,f_3_gain_err=gain_calculator(f_3,40,10,1,2,-1)\n",
    "Voltages_f_3=Voltages(f_3)"
   ]
  },
  {
   "cell_type": "markdown",
   "metadata": {},
   "source": [
    "## 0.8kHz"
   ]
  },
  {
   "cell_type": "code",
   "execution_count": 13,
   "metadata": {},
   "outputs": [],
   "source": [
    "f_4_gain_list,f_4_gain_err=gain_calculator(f_4,60,11,10,5,-3)\n",
    "Voltages_f_4=Voltages(f_4)"
   ]
  },
  {
   "cell_type": "markdown",
   "metadata": {},
   "source": [
    "## 0.9kHz"
   ]
  },
  {
   "cell_type": "code",
   "execution_count": 14,
   "metadata": {},
   "outputs": [],
   "source": [
    "f_5_gain_list,f_5_gain_err=gain_calculator(f_5,30,12,10,5,-3)\n",
    "Voltages_f_5=Voltages(f_5)"
   ]
  },
  {
   "cell_type": "markdown",
   "metadata": {},
   "source": [
    "## 1.0kHz"
   ]
  },
  {
   "cell_type": "code",
   "execution_count": 15,
   "metadata": {},
   "outputs": [],
   "source": [
    "f_6_gain_list,f_6_gain_err=gain_calculator(f_6,30,11,10,4,-3)\n",
    "Voltages_f_6=Voltages(f_6)"
   ]
  },
  {
   "cell_type": "markdown",
   "metadata": {},
   "source": [
    "## 2kHz"
   ]
  },
  {
   "cell_type": "code",
   "execution_count": 16,
   "metadata": {},
   "outputs": [],
   "source": [
    "f_7_gain_list,f_7_gain_err=gain_calculator(f_7,30,8,1,3,-2)\n",
    "Voltages_f_7=Voltages(f_7)"
   ]
  },
  {
   "cell_type": "markdown",
   "metadata": {},
   "source": [
    "## 5kHz"
   ]
  },
  {
   "cell_type": "code",
   "execution_count": 17,
   "metadata": {},
   "outputs": [],
   "source": [
    "f_8_gain_list,f_8_gain_err=gain_calculator(f_8,30,8,1,3,-2)\n",
    "Voltages_f_8=Voltages(f_8)"
   ]
  },
  {
   "cell_type": "code",
   "execution_count": 18,
   "metadata": {},
   "outputs": [],
   "source": [
    "f_9_gain_list,f_9_gain_err=gain_calculator(f_9,30,8,1,3,-2)\n",
    "Voltages_f_9=Voltages(f_9)"
   ]
  },
  {
   "cell_type": "code",
   "execution_count": 19,
   "metadata": {},
   "outputs": [],
   "source": [
    "f_10_gain_list,f_10_gain_err=gain_calculator(f_10,30,9,1,3,-4)\n",
    "Voltages_f_10=Voltages(f_10)"
   ]
  },
  {
   "cell_type": "code",
   "execution_count": 20,
   "metadata": {
    "scrolled": true
   },
   "outputs": [
    {
     "ename": "ValueError",
     "evalue": "`ydata` must not be empty!",
     "output_type": "error",
     "traceback": [
      "\u001b[1;31m---------------------------------------------------------------------------\u001b[0m",
      "\u001b[1;31mValueError\u001b[0m                                Traceback (most recent call last)",
      "Cell \u001b[1;32mIn[20], line 15\u001b[0m\n\u001b[0;32m     13\u001b[0m \u001b[38;5;28;01mfor\u001b[39;00m voltages, gains, errors, frequencies, colours \u001b[38;5;129;01min\u001b[39;00m \u001b[38;5;28mzip\u001b[39m(All_Voltages, All_Gains, All_Errors, All_Frequencies, Colours_all):\n\u001b[0;32m     14\u001b[0m     plt\u001b[38;5;241m.\u001b[39merrorbar(voltages, gains, yerr\u001b[38;5;241m=\u001b[39merrors, fmt\u001b[38;5;241m=\u001b[39m\u001b[38;5;124m'\u001b[39m\u001b[38;5;124mo\u001b[39m\u001b[38;5;124m'\u001b[39m,label\u001b[38;5;241m=\u001b[39m\u001b[38;5;28mstr\u001b[39m(frequencies)\u001b[38;5;241m+\u001b[39m\u001b[38;5;124m'\u001b[39m\u001b[38;5;124mkHz\u001b[39m\u001b[38;5;124m'\u001b[39m, ms\u001b[38;5;241m=\u001b[39m\u001b[38;5;241m9\u001b[39m,color\u001b[38;5;241m=\u001b[39mcolours)\n\u001b[1;32m---> 15\u001b[0m     popt,pcov\u001b[38;5;241m=\u001b[39m\u001b[43mcurve_fit\u001b[49m\u001b[43m(\u001b[49m\u001b[43mline\u001b[49m\u001b[43m,\u001b[49m\u001b[43mvoltages\u001b[49m\u001b[43m,\u001b[49m\u001b[43mgains\u001b[49m\u001b[43m,\u001b[49m\u001b[43mp0\u001b[49m\u001b[38;5;241;43m=\u001b[39;49m\u001b[43m[\u001b[49m\u001b[38;5;241;43m31\u001b[39;49m\u001b[43m,\u001b[49m\u001b[38;5;241;43m26\u001b[39;49m\u001b[43m]\u001b[49m\u001b[43m,\u001b[49m\u001b[43msigma\u001b[49m\u001b[38;5;241;43m=\u001b[39;49m\u001b[43merrors\u001b[49m\u001b[43m)\u001b[49m\n\u001b[0;32m     16\u001b[0m \u001b[38;5;66;03m#     label = 'BV= '+str(np.round(popt[1],2))+ '$\\pm$'+ str(np.round(np.sqrt(np.diag(pcov)[1]),2))+' V'\u001b[39;00m\n\u001b[0;32m     17\u001b[0m     plt\u001b[38;5;241m.\u001b[39mplot(x_data, line(x_data,\u001b[38;5;241m*\u001b[39mpopt), ls\u001b[38;5;241m=\u001b[39m\u001b[38;5;124m'\u001b[39m\u001b[38;5;124m--\u001b[39m\u001b[38;5;124m'\u001b[39m,color\u001b[38;5;241m=\u001b[39mcolours,lw\u001b[38;5;241m=\u001b[39m\u001b[38;5;241m3\u001b[39m)\n",
      "File \u001b[1;32mc:\\Users\\nEXO\\anaconda3\\lib\\site-packages\\scipy\\optimize\\minpack.py:747\u001b[0m, in \u001b[0;36mcurve_fit\u001b[1;34m(f, xdata, ydata, p0, sigma, absolute_sigma, check_finite, bounds, method, jac, **kwargs)\u001b[0m\n\u001b[0;32m    744\u001b[0m         xdata \u001b[38;5;241m=\u001b[39m np\u001b[38;5;241m.\u001b[39masarray(xdata, \u001b[38;5;28mfloat\u001b[39m)\n\u001b[0;32m    746\u001b[0m \u001b[38;5;28;01mif\u001b[39;00m ydata\u001b[38;5;241m.\u001b[39msize \u001b[38;5;241m==\u001b[39m \u001b[38;5;241m0\u001b[39m:\n\u001b[1;32m--> 747\u001b[0m     \u001b[38;5;28;01mraise\u001b[39;00m \u001b[38;5;167;01mValueError\u001b[39;00m(\u001b[38;5;124m\"\u001b[39m\u001b[38;5;124m`ydata` must not be empty!\u001b[39m\u001b[38;5;124m\"\u001b[39m)\n\u001b[0;32m    749\u001b[0m \u001b[38;5;66;03m# Determine type of sigma\u001b[39;00m\n\u001b[0;32m    750\u001b[0m \u001b[38;5;28;01mif\u001b[39;00m sigma \u001b[38;5;129;01mis\u001b[39;00m \u001b[38;5;129;01mnot\u001b[39;00m \u001b[38;5;28;01mNone\u001b[39;00m:\n",
      "\u001b[1;31mValueError\u001b[0m: `ydata` must not be empty!"
     ]
    },
    {
     "data": {
      "image/png": "[encoded data removed]",
      "text/plain": [
       "<Figure size 800x600 with 1 Axes>"
      ]
     },
     "metadata": {},
     "output_type": "display_data"
    }
   ],
   "source": [
    "x_data=np.arange(26,35,0.1)\n",
    "plt.figure(figsize=(8,6))\n",
    "\n",
    "All_Voltages = [Voltages_f_1, Voltages_f_2, Voltages_f_3, Voltages_f_4, Voltages_f_5, Voltages_f_6, Voltages_f_7,\\\n",
    "     Voltages_f_8, Voltages_f_9, Voltages_f_10]\n",
    "All_Gains = [f_1_gain_list, f_2_gain_list, f_3_gain_list, f_4_gain_list, f_5_gain_list, f_6_gain_list, f_7_gain_list,\\\n",
    "     f_8_gain_list, f_9_gain_list, f_10_gain_list]\n",
    "All_Errors = [f_1_gain_err, f_2_gain_err, f_3_gain_err, f_4_gain_err, f_5_gain_err, f_6_gain_err, f_7_gain_err,\\\n",
    "     f_8_gain_err, f_9_gain_err, f_10_gain_err]\n",
    "All_Frequencies = [0.5,0.6,0.7,0.8,0.9,1.0,2.0,5.0,7.0,10.0]\n",
    "Colours_all=[colors[i] for i in range(len(All_Voltages))]\n",
    "\n",
    "for voltages, gains, errors, frequencies, colours in zip(All_Voltages, All_Gains, All_Errors, All_Frequencies, Colours_all):\n",
    "    plt.errorbar(voltages, gains, yerr=errors, fmt='o',label=str(frequencies)+'kHz', ms=9,color=colours)\n",
    "    popt,pcov=curve_fit(line,voltages,gains,p0=[31,26],sigma=errors)\n",
    "#     label = 'BV= '+str(np.round(popt[1],2))+ '$\\pm$'+ str(np.round(np.sqrt(np.diag(pcov)[1]),2))+' V'\n",
    "    plt.plot(x_data, line(x_data,*popt), ls='--',color=colours,lw=3)\n",
    "\n",
    "plt.grid()\n",
    "plt.ylabel('Gain (ADC/PE)')\n",
    "plt.xlabel('Bias Voltage (V)')\n",
    "plt.legend(bbox_to_anchor =(1, 1))\n",
    "# plt.legend(loc='best')\n",
    "plt.ylim(0,2000)\n",
    "plt.xlim(26,35)\n",
    "plt.savefig('Gain_vs_frequency_shunted.pdf')\n",
    "plt.show()"
   ]
  }
 ],
 "metadata": {
  "kernelspec": {
   "display_name": "Python 3",
   "language": "python",
   "name": "python3"
  },
  "language_info": {
   "codemirror_mode": {
    "name": "ipython",
    "version": 3
   },
   "file_extension": ".py",
   "mimetype": "text/x-python",
   "name": "python",
   "nbconvert_exporter": "python",
   "pygments_lexer": "ipython3",
   "version": "3.8.5"
  },
  "vscode": {
   "interpreter": {
    "hash": "916dbcbb3f70747c44a77c7bcd40155683ae19c65e1c03b4aa3499c5328201f1"
   }
  }
 },
 "nbformat": 4,
 "nbformat_minor": 2
}
